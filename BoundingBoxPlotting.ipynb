{
 "cells": [
  {
   "cell_type": "code",
   "execution_count": null,
   "metadata": {},
   "outputs": [],
   "source": [
    "%matplotlib inline"
   ]
  },
  {
   "cell_type": "code",
   "execution_count": null,
   "metadata": {},
   "outputs": [],
   "source": [
    "pip install earthengine-api\n"
   ]
  },
  {
   "cell_type": "code",
   "execution_count": 1,
   "metadata": {},
   "outputs": [],
   "source": [
    "import ee\n",
    "\n",
    "ee.Authenticate()\n",
    "ee.Initialize()"
   ]
  },
  {
   "cell_type": "code",
   "execution_count": 2,
   "metadata": {},
   "outputs": [],
   "source": [
    "# Define the location of interest\n",
    "latitude = 33.8017484  # Replace with the latitude of your area of interest\n",
    "longitude = -84.3311336  # Replace with the longitude of your area of interest\n",
    "point = ee.Geometry.Point(longitude, latitude)\n",
    "\n",
    "# Specify the satellite image to use (e.g., Landsat 8)\n",
    "image = ee.ImageCollection('LANDSAT/LC08/C01/T1_SR').filterBounds(point).first()\n",
    "\n",
    "# Set the visualization parameters\n",
    "vis_params = {\n",
    "    'min': 0,\n",
    "    'max': 3000,\n",
    "    'bands': ['B4', 'B3', 'B2']  # RGB\n",
    "}\n"
   ]
  },
  {
   "cell_type": "code",
   "execution_count": 3,
   "metadata": {},
   "outputs": [],
   "source": [
    "# Define the export parameters\n",
    "export_params = {\n",
    "    'scale': 100,  # Specify the resolution in meters\n",
    "    'description': 'satellite_image_export',\n",
    "    'fileFormat': 'GeoTIFF',\n",
    "    'folder': 'EarthEngineImages',  # Folder in Google Drive\n",
    "    'region': point.buffer(500).bounds().getInfo()['coordinates']  # Defines the region to export\n",
    "}\n",
    "\n",
    "# Start the export\n",
    "task = ee.batch.Export.image.toDrive(image.visualize(**vis_params), **export_params)\n",
    "task.start()\n"
   ]
  },
  {
   "cell_type": "markdown",
   "metadata": {},
   "source": [
    "----"
   ]
  },
  {
   "cell_type": "code",
   "execution_count": null,
   "metadata": {},
   "outputs": [],
   "source": [
    "pip install geemap"
   ]
  },
  {
   "cell_type": "code",
   "execution_count": 4,
   "metadata": {},
   "outputs": [
    {
     "name": "stderr",
     "output_type": "stream",
     "text": [
      "/Users/gehaojie/opt/anaconda3/lib/python3.9/site-packages/eerepr/repr.py:57: UserWarning: Getting info failed with: 'Collection query aborted after accumulating over 5000 elements.'. Falling back to string repr.\n",
      "  warn(f\"Getting info failed with: '{e}'. Falling back to string repr.\")\n"
     ]
    },
    {
     "data": {
      "text/html": [
       "<pre>&lt;ee.imagecollection.ImageCollection object at 0x7fe8304b7e20&gt;</pre>"
      ],
      "text/plain": [
       "<ee.imagecollection.ImageCollection at 0x7fe8304b7e20>"
      ]
     },
     "execution_count": 4,
     "metadata": {},
     "output_type": "execute_result"
    }
   ],
   "source": [
    "import geemap\n",
    "\n",
    "dataset = ee.ImageCollection('USDA/NAIP/DOQQ').filter(ee.Filter.date('2021-01-01', '2023-12-31'))\n",
    "dataset"
   ]
  },
  {
   "cell_type": "markdown",
   "metadata": {},
   "source": [
    "Origional picture:"
   ]
  },
  {
   "cell_type": "code",
   "execution_count": 5,
   "metadata": {},
   "outputs": [
    {
     "data": {
      "text/html": [
       "\n",
       "            <style>\n",
       "                .geemap-dark {\n",
       "                    --jp-widgets-color: white;\n",
       "                    --jp-widgets-label-color: white;\n",
       "                    --jp-ui-font-color1: white;\n",
       "                    --jp-layout-color2: #454545;\n",
       "                    background-color: #383838;\n",
       "                }\n",
       "                    \n",
       "                .geemap-dark .jupyter-button {\n",
       "                    --jp-layout-color3: #383838;\n",
       "                }\n",
       "                \n",
       "                .geemap-colab {\n",
       "                    background-color: var(--colab-primary-surface-color, white);\n",
       "                }\n",
       "                    \n",
       "                .geemap-colab .jupyter-button {\n",
       "                    --jp-layout-color3: var(--colab-primary-surface-color, white);\n",
       "                }\n",
       "            </style>\n",
       "            "
      ],
      "text/plain": [
       "<IPython.core.display.HTML object>"
      ]
     },
     "metadata": {},
     "output_type": "display_data"
    },
    {
     "data": {
      "application/vnd.jupyter.widget-view+json": {
       "model_id": "1f7aa4b18f7b4deabffc4d2b4ea633b4",
       "version_major": 2,
       "version_minor": 0
      },
      "text/plain": [
       "Map(center=[33.8017023, -84.3281391], controls=(WidgetControl(options=['position', 'transparent_bg'], widget=S…"
      ]
     },
     "metadata": {},
     "output_type": "display_data"
    }
   ],
   "source": [
    "\n",
    "# Applies scaling factors.\n",
    "def apply_scale_factors(image):\n",
    "  optical_bands = image.select('SR_B.').multiply(0.0000275).add(-0.2)\n",
    "  thermal_bands = image.select('ST_B6').multiply(0.00341802).add(149.0)\n",
    "  return image.addBands(optical_bands, None, True).addBands(\n",
    "      thermal_bands, None, True\n",
    "  )\n",
    "\n",
    "\n",
    "trueColor = dataset.select(['R', 'G', 'B']);\n",
    "trueColorVis = {\n",
    "  min: 0,\n",
    "  max: 255,\n",
    "};\n",
    "\n",
    "m = geemap.Map()\n",
    "m.set_center(-84.3281391,33.8017023, 18)\n",
    "m.add_layer(trueColor, trueColorVis, 'True Color (321)')\n",
    "m"
   ]
  },
  {
   "cell_type": "markdown",
   "metadata": {},
   "source": [
    "Normal Bounding Box:"
   ]
  },
  {
   "cell_type": "code",
   "execution_count": 15,
   "metadata": {},
   "outputs": [
    {
     "data": {
      "text/html": [
       "\n",
       "            <style>\n",
       "                .geemap-dark {\n",
       "                    --jp-widgets-color: white;\n",
       "                    --jp-widgets-label-color: white;\n",
       "                    --jp-ui-font-color1: white;\n",
       "                    --jp-layout-color2: #454545;\n",
       "                    background-color: #383838;\n",
       "                }\n",
       "                    \n",
       "                .geemap-dark .jupyter-button {\n",
       "                    --jp-layout-color3: #383838;\n",
       "                }\n",
       "                \n",
       "                .geemap-colab {\n",
       "                    background-color: var(--colab-primary-surface-color, white);\n",
       "                }\n",
       "                    \n",
       "                .geemap-colab .jupyter-button {\n",
       "                    --jp-layout-color3: var(--colab-primary-surface-color, white);\n",
       "                }\n",
       "            </style>\n",
       "            "
      ],
      "text/plain": [
       "<IPython.core.display.HTML object>"
      ]
     },
     "metadata": {},
     "output_type": "display_data"
    },
    {
     "data": {
      "application/vnd.jupyter.widget-view+json": {
       "model_id": "cae9099d1f704ac9b00b5e1e943bc66a",
       "version_major": 2,
       "version_minor": 0
      },
      "text/plain": [
       "Map(center=[34.0778155, -84.322216], controls=(WidgetControl(options=['position', 'transparent_bg'], widget=Se…"
      ]
     },
     "metadata": {},
     "output_type": "display_data"
    }
   ],
   "source": [
    "import ee\n",
    "import geemap\n",
    "dataset = ee.ImageCollection('USDA/NAIP/DOQQ').filter(ee.Filter.date('2021-01-01', '2023-12-31'))\n",
    "ee.Initialize()\n",
    "\n",
    "\n",
    "\n",
    "# Define the bounding box coordinates.\n",
    "max_lon, max_lat, min_lon, min_lat = -84.321957, 34.078049, -84.322475, 34.077582  # Adjust these to your bounding box\n",
    "\n",
    "# Create a bounding box for the area of interest (your house).\n",
    "boundingBox = ee.Geometry.Rectangle([min_lon, min_lat, max_lon, max_lat])\n",
    "\n",
    "# Assuming 'dataset' is an ee.ImageCollection.\n",
    "# Create an image composite or use the first image, as an example:\n",
    "firstImage = dataset.median()  # This is one way to composite an ImageCollection\n",
    "\n",
    "# Clip the image to the bounding box.\n",
    "clippedImage = firstImage.clip(boundingBox)\n",
    "\n",
    "# Visualization parameters.\n",
    "trueColorVis = {\n",
    "  'bands': ['R', 'G', 'B'],\n",
    "  'min': 0,\n",
    "  'max': 255,\n",
    "}\n",
    "\n",
    "# Initialize a map.\n",
    "m = geemap.Map()\n",
    "m.set_center((max_lon + min_lon) / 2, (max_lat + min_lat) / 2, 20)  # Center the map on the bounding box.\n",
    "m.add_layer(clippedImage, trueColorVis, 'True Color')\n",
    "\n",
    "# Display the map.\n",
    "m\n"
   ]
  },
  {
   "cell_type": "markdown",
   "metadata": {},
   "source": [
    "Black version:"
   ]
  },
  {
   "cell_type": "code",
   "execution_count": 18,
   "metadata": {},
   "outputs": [
    {
     "data": {
      "text/html": [
       "\n",
       "            <style>\n",
       "                .geemap-dark {\n",
       "                    --jp-widgets-color: white;\n",
       "                    --jp-widgets-label-color: white;\n",
       "                    --jp-ui-font-color1: white;\n",
       "                    --jp-layout-color2: #454545;\n",
       "                    background-color: #383838;\n",
       "                }\n",
       "                    \n",
       "                .geemap-dark .jupyter-button {\n",
       "                    --jp-layout-color3: #383838;\n",
       "                }\n",
       "                \n",
       "                .geemap-colab {\n",
       "                    background-color: var(--colab-primary-surface-color, white);\n",
       "                }\n",
       "                    \n",
       "                .geemap-colab .jupyter-button {\n",
       "                    --jp-layout-color3: var(--colab-primary-surface-color, white);\n",
       "                }\n",
       "            </style>\n",
       "            "
      ],
      "text/plain": [
       "<IPython.core.display.HTML object>"
      ]
     },
     "metadata": {},
     "output_type": "display_data"
    },
    {
     "data": {
      "application/vnd.jupyter.widget-view+json": {
       "model_id": "f0437f46f5734e9a893c5d3b305698b6",
       "version_major": 2,
       "version_minor": 0
      },
      "text/plain": [
       "Map(center=[34.0778155, -84.322216], controls=(WidgetControl(options=['position', 'transparent_bg'], widget=Se…"
      ]
     },
     "metadata": {},
     "output_type": "display_data"
    }
   ],
   "source": [
    "import ee\n",
    "import geemap\n",
    "\n",
    "# Initialize the Earth Engine library.\n",
    "ee.Initialize()\n",
    "\n",
    "# Define the bounding box coordinates for the broader area.\n",
    "max_lon, max_lat, min_lon, min_lat = -84.321957, 34.078049, -84.322475, 34.077582\n",
    "\n",
    "# Create a bounding box for the area of interest (around your house).\n",
    "boundingBox = ee.Geometry.Rectangle([min_lon, min_lat, max_lon, max_lat])\n",
    "\n",
    "# Define the coordinates of your land.\n",
    "houseCoords = ee.Geometry.Polygon(\n",
    " [(-84.3219570886809, 34.0776338049394), (-84.3222598355553, 34.0775826902571), (-84.3222644330423, 34.0775821533882), (-84.3222706029606, 34.0775817479663), (-84.3222752446441, 34.0775816789761), (-84.3222814287089, 34.0775818992524), (-84.3222875798376, 34.0775824766072), (-84.3222921535182, 34.0775831416122), (-84.3222981746658, 34.0775843340284), (-84.3223026169916, 34.0775854554135), (-84.3223084203637, 34.0775872467734), (-84.3223154421995, 34.0775899499196), (-84.3223208395029, 34.0775924711948), (-84.322327270254, 34.0775960496498), (-84.3223333030951, 34.0776000794129), (-84.3223378137524, 34.0776036071046), (-84.3223420182325, 34.0776073858313), (-84.3223458980858, 34.0776113993874), (-84.322350262488, 34.0776167142529), (-84.3223533446141, 34.0776211805255), (-84.3223610479689, 34.0776345308077), (-84.3223668920169, 34.077644337417), (-84.3223729385296, 34.0776540590183), (-84.3223791842515, 34.0776636929107), (-84.322385629176, 34.0776732354879), (-84.3223922711311, 34.0776826840477), (-84.3223991068632, 34.077692036791), (-84.3224061352803, 34.0777012892112), (-84.322413354214, 34.0777104404092), (-84.3224207614904, 34.0777194867815), (-84.3224283549362, 34.0777284247242), (-84.322436131299, 34.07773725334), (-84.3224440905723, 34.0777459690222), (-84.3224522284187, 34.0777545699732), (-84.3224605426629, 34.0777630516876), (-84.3224690322215, 34.0777714141668), (-84.322475290727, 34.0777773676702), (-84.3221294753502, 34.0780105586958), (-84.3220723494629, 34.0780490458033), (-84.3219570886809, 34.0776338049394)]\n",
    ")\n",
    "\n",
    "# Load the image collection.\n",
    "dataset = ee.ImageCollection('USDA/NAIP/DOQQ').filter(ee.Filter.date('2021-01-01', '2023-12-31'))\n",
    "\n",
    "# Create an image composite or use the first image.\n",
    "firstImage = dataset.median()\n",
    "\n",
    "# Clip the image to the bounding box.\n",
    "clippedImage = firstImage.clip(boundingBox)\n",
    "\n",
    "# Create a mask from the houseCoords polygon.\n",
    "mask = ee.Image.constant(1).clip(houseCoords).mask()\n",
    "\n",
    "# Apply the mask to the clipped image.\n",
    "#maskedImage = clippedImage.updateMask(mask)\n",
    "blackImage = ee.Image.constant([0, 0, 0, 255]).clip(boundingBox)\n",
    "maskedImage = clippedImage.updateMask(mask).blend(blackImage.updateMask(mask.Not()))\n",
    "\n",
    "# Visualization parameters.\n",
    "trueColorVis = {\n",
    "    'bands': ['R', 'G', 'B'],\n",
    "    'min': 0,\n",
    "    'max': 255,\n",
    "}\n",
    "\n",
    "# Initialize a map.\n",
    "m = geemap.Map()\n",
    "m.set_center((max_lon + min_lon) / 2, (max_lat + min_lat) / 2, 20)  # Center the map on the bounding box.\n",
    "m.add_layer(maskedImage, trueColorVis, 'True Color')\n",
    "\n",
    "# Display the map.\n",
    "m\n"
   ]
  },
  {
   "cell_type": "markdown",
   "metadata": {},
   "source": [
    "Transparent version:"
   ]
  },
  {
   "cell_type": "code",
   "execution_count": null,
   "metadata": {},
   "outputs": [],
   "source": [
    "import ee\n",
    "import geemap\n",
    "\n",
    "# Initialize the Earth Engine library.\n",
    "ee.Initialize()\n",
    "\n",
    "# Define the bounding box coordinates for the broader area.\n",
    "max_lon, max_lat, min_lon, min_lat = -84.321957, 34.078049, -84.322475, 34.077582\n",
    "\n",
    "# Create a bounding box for the area of interest (around your house).\n",
    "boundingBox = ee.Geometry.Rectangle([min_lon, min_lat, max_lon, max_lat])\n",
    "\n",
    "# Define the coordinates of your land.\n",
    "houseCoords = ee.Geometry.Polygon(\n",
    " [(-84.3219570886809, 34.0776338049394), (-84.3222598355553, 34.0775826902571), (-84.3222644330423, 34.0775821533882), (-84.3222706029606, 34.0775817479663), (-84.3222752446441, 34.0775816789761), (-84.3222814287089, 34.0775818992524), (-84.3222875798376, 34.0775824766072), (-84.3222921535182, 34.0775831416122), (-84.3222981746658, 34.0775843340284), (-84.3223026169916, 34.0775854554135), (-84.3223084203637, 34.0775872467734), (-84.3223154421995, 34.0775899499196), (-84.3223208395029, 34.0775924711948), (-84.322327270254, 34.0775960496498), (-84.3223333030951, 34.0776000794129), (-84.3223378137524, 34.0776036071046), (-84.3223420182325, 34.0776073858313), (-84.3223458980858, 34.0776113993874), (-84.322350262488, 34.0776167142529), (-84.3223533446141, 34.0776211805255), (-84.3223610479689, 34.0776345308077), (-84.3223668920169, 34.077644337417), (-84.3223729385296, 34.0776540590183), (-84.3223791842515, 34.0776636929107), (-84.322385629176, 34.0776732354879), (-84.3223922711311, 34.0776826840477), (-84.3223991068632, 34.077692036791), (-84.3224061352803, 34.0777012892112), (-84.322413354214, 34.0777104404092), (-84.3224207614904, 34.0777194867815), (-84.3224283549362, 34.0777284247242), (-84.322436131299, 34.07773725334), (-84.3224440905723, 34.0777459690222), (-84.3224522284187, 34.0777545699732), (-84.3224605426629, 34.0777630516876), (-84.3224690322215, 34.0777714141668), (-84.322475290727, 34.0777773676702), (-84.3221294753502, 34.0780105586958), (-84.3220723494629, 34.0780490458033), (-84.3219570886809, 34.0776338049394)]\n",
    ")\n",
    "\n",
    "# Load the image collection.\n",
    "dataset = ee.ImageCollection('USDA/NAIP/DOQQ').filter(ee.Filter.date('2021-01-01', '2023-12-31'))\n",
    "\n",
    "# Create an image composite or use the first image.\n",
    "firstImage = dataset.median()\n",
    "\n",
    "# Clip the image to the bounding box.\n",
    "clippedImage = firstImage.clip(boundingBox)\n",
    "\n",
    "# Create a mask from the houseCoords polygon.\n",
    "mask = ee.Image.constant(1).clip(houseCoords).mask()\n",
    "\n",
    "# Apply the mask to the clipped image.\n",
    "maskedImage = clippedImage.updateMask(mask)\n",
    "\n",
    "\n",
    "# Visualization parameters.\n",
    "trueColorVis = {\n",
    "    'bands': ['R', 'G', 'B'],\n",
    "    'min': 0,\n",
    "    'max': 255,\n",
    "}\n",
    "\n",
    "# Initialize a map.\n",
    "m = geemap.Map()\n",
    "m.set_center((max_lon + min_lon) / 2, (max_lat + min_lat) / 2, 20)  # Center the map on the bounding box.\n",
    "m.add_layer(maskedImage, trueColorVis, 'True Color')\n",
    "\n",
    "# Display the map.\n",
    "m"
   ]
  }
 ],
 "metadata": {
  "kernelspec": {
   "display_name": "base",
   "language": "python",
   "name": "python3"
  },
  "language_info": {
   "codemirror_mode": {
    "name": "ipython",
    "version": 3
   },
   "file_extension": ".py",
   "mimetype": "text/x-python",
   "name": "python",
   "nbconvert_exporter": "python",
   "pygments_lexer": "ipython3",
   "version": "3.9.12"
  }
 },
 "nbformat": 4,
 "nbformat_minor": 2
}
