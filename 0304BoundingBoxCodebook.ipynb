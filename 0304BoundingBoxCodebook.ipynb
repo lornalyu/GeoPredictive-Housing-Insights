{
 "cells": [
  {
   "cell_type": "markdown",
   "metadata": {},
   "source": [
    "# Setting Portion"
   ]
  },
  {
   "cell_type": "code",
   "execution_count": 1,
   "metadata": {},
   "outputs": [
    {
     "data": {
      "text/html": [
       "<p>To authorize access needed by Earth Engine, open the following\n",
       "        URL in a web browser and follow the instructions:</p>\n",
       "        <p><a href=https://code.earthengine.google.com/client-auth?scopes=https%3A//www.googleapis.com/auth/earthengine%20https%3A//www.googleapis.com/auth/cloud-platform%20https%3A//www.googleapis.com/auth/devstorage.full_control&request_id=yk-aDLmWQpGIex6LKk7v32Mf1ndCbvaswrvJXRmYSA8&tc=_ebSLRLNipyeuswY4XqnusSnlG_BhS5BGbAD-VIxHzI&cc=9tcWu0GG02VKt8XQWBVYdo3j_PipQMjTEqfxozByxSs>https://code.earthengine.google.com/client-auth?scopes=https%3A//www.googleapis.com/auth/earthengine%20https%3A//www.googleapis.com/auth/cloud-platform%20https%3A//www.googleapis.com/auth/devstorage.full_control&request_id=yk-aDLmWQpGIex6LKk7v32Mf1ndCbvaswrvJXRmYSA8&tc=_ebSLRLNipyeuswY4XqnusSnlG_BhS5BGbAD-VIxHzI&cc=9tcWu0GG02VKt8XQWBVYdo3j_PipQMjTEqfxozByxSs</a></p>\n",
       "        <p>The authorization workflow will generate a code, which you should paste in the box below.</p>\n",
       "        "
      ],
      "text/plain": [
       "<IPython.core.display.HTML object>"
      ]
     },
     "metadata": {},
     "output_type": "display_data"
    },
    {
     "name": "stdout",
     "output_type": "stream",
     "text": [
      "\n",
      "Successfully saved authorization token.\n"
     ]
    }
   ],
   "source": [
    "#Packages importing\n",
    "import ee\n",
    "import geemap\n",
    "import multiprocess as mp\n",
    "import time\n",
    "import numpy as np\n",
    "import matplotlib.pyplot as plt\n",
    "import pandas as pd\n",
    "import pandas as pd\n",
    "pd.set_option('display.precision', 20)\n",
    "import geopandas as gpd\n",
    "import json\n",
    "import shapely.geometry as sg\n",
    "import random\n",
    "from shapely.geometry import Polygon\n",
    "\n",
    "ee.Authenticate()\n",
    "ee.Initialize()"
   ]
  },
  {
   "cell_type": "code",
   "execution_count": 2,
   "metadata": {},
   "outputs": [
    {
     "data": {
      "text/html": [
       "\n",
       "            <style>\n",
       "                .geemap-dark {\n",
       "                    --jp-widgets-color: white;\n",
       "                    --jp-widgets-label-color: white;\n",
       "                    --jp-ui-font-color1: white;\n",
       "                    --jp-layout-color2: #454545;\n",
       "                    background-color: #383838;\n",
       "                }\n",
       "                    \n",
       "                .geemap-dark .jupyter-button {\n",
       "                    --jp-layout-color3: #383838;\n",
       "                }\n",
       "                \n",
       "                .geemap-colab {\n",
       "                    background-color: var(--colab-primary-surface-color, white);\n",
       "                }\n",
       "                    \n",
       "                .geemap-colab .jupyter-button {\n",
       "                    --jp-layout-color3: var(--colab-primary-surface-color, white);\n",
       "                }\n",
       "            </style>\n",
       "            "
      ],
      "text/plain": [
       "<IPython.core.display.HTML object>"
      ]
     },
     "metadata": {},
     "output_type": "display_data"
    }
   ],
   "source": [
    "# Load the image collection.\n",
    "dataset = ee.ImageCollection('USDA/NAIP/DOQQ').filter(ee.Filter.date('2021-01-01', '2024-12-31'))\n",
    "#Fixed Parameters\n",
    "# Visualization parameters.\n",
    "trueColorVis = {\n",
    "    'bands': ['R', 'G', 'B'],\n",
    "    'min': 0,\n",
    "    'max': 255,\n",
    "    'gamma': [1.0, 1.0, 1.0]\n",
    "}"
   ]
  },
  {
   "cell_type": "markdown",
   "metadata": {},
   "source": [
    "# Code Portion"
   ]
  },
  {
   "cell_type": "markdown",
   "metadata": {},
   "source": [
    "### display_masked_image"
   ]
  },
  {
   "cell_type": "code",
   "execution_count": 57,
   "metadata": {},
   "outputs": [
    {
     "data": {
      "text/html": [
       "\n",
       "            <style>\n",
       "                .geemap-dark {\n",
       "                    --jp-widgets-color: white;\n",
       "                    --jp-widgets-label-color: white;\n",
       "                    --jp-ui-font-color1: white;\n",
       "                    --jp-layout-color2: #454545;\n",
       "                    background-color: #383838;\n",
       "                }\n",
       "                    \n",
       "                .geemap-dark .jupyter-button {\n",
       "                    --jp-layout-color3: #383838;\n",
       "                }\n",
       "                \n",
       "                .geemap-colab {\n",
       "                    background-color: var(--colab-primary-surface-color, white);\n",
       "                }\n",
       "                    \n",
       "                .geemap-colab .jupyter-button {\n",
       "                    --jp-layout-color3: var(--colab-primary-surface-color, white);\n",
       "                }\n",
       "            </style>\n",
       "            "
      ],
      "text/plain": [
       "<IPython.core.display.HTML object>"
      ]
     },
     "metadata": {},
     "output_type": "display_data"
    }
   ],
   "source": [
    "def display_masked_image(bounding_box_coords,houseCoords,name):\n",
    "\n",
    "    min_lon, min_lat, max_lon, max_lat = bounding_box_coords\n",
    "    boundingBox = ee.Geometry.Rectangle([min_lon, min_lat, max_lon, max_lat])\n",
    "    #boundingBox = ee.Geometry.Polygon(obb_coords)  \n",
    "\n",
    "    # Create an image composite or use the first image.\n",
    "    firstImage = dataset.median()\n",
    "   \n",
    "    # Clip the image to the bounding box.\n",
    "    clippedImage = firstImage.clip(boundingBox)\n",
    "   \n",
    "    # Create a mask from the houseCoords polygon.\n",
    "    mask = ee.Image.constant(1).clip(houseCoords).mask()\n",
    "   \n",
    "    # Apply the mask to the clipped image.\n",
    "    blackImage = ee.Image.constant([0, 0, 0, 255]).clip(boundingBox)\n",
    "    maskedImage = clippedImage.updateMask(mask).blend(blackImage.updateMask(mask.Not()))\n",
    "    # Initialize a map.\n",
    "    m = geemap.Map()\n",
    "    m.set_center((max_lon + min_lon) / 2, (max_lat + min_lat) / 2, 20)  # Center the map on the bounding box.\n",
    "    m.add_layer(maskedImage, trueColorVis, 'True Color')\n",
    "   \n",
    "    visualizedImage = maskedImage.visualize(**trueColorVis)\n",
    "    #geemap.ee.batch.Export.image.toDrive(visualizedImage, description=\"testingexample\"+str(name), folder=\"QTM550Team1Plottings1\", region=boundingBox,skipEmptyTiles=True, scale=0.05)\n",
    "    geemap.ee_export_image_to_drive(visualizedImage, description=\"testingexample\"+str(name), folder=\"QTM550Team1Plottings\", region=boundingBox, scale=0.05)\n",
    "\n",
    "    # Display the map.\n"
   ]
  },
  {
   "cell_type": "markdown",
   "metadata": {},
   "source": [
    "### extract_polygon_coords"
   ]
  },
  {
   "cell_type": "code",
   "execution_count": 4,
   "metadata": {},
   "outputs": [
    {
     "data": {
      "text/html": [
       "\n",
       "            <style>\n",
       "                .geemap-dark {\n",
       "                    --jp-widgets-color: white;\n",
       "                    --jp-widgets-label-color: white;\n",
       "                    --jp-ui-font-color1: white;\n",
       "                    --jp-layout-color2: #454545;\n",
       "                    background-color: #383838;\n",
       "                }\n",
       "                    \n",
       "                .geemap-dark .jupyter-button {\n",
       "                    --jp-layout-color3: #383838;\n",
       "                }\n",
       "                \n",
       "                .geemap-colab {\n",
       "                    background-color: var(--colab-primary-surface-color, white);\n",
       "                }\n",
       "                    \n",
       "                .geemap-colab .jupyter-button {\n",
       "                    --jp-layout-color3: var(--colab-primary-surface-color, white);\n",
       "                }\n",
       "            </style>\n",
       "            "
      ],
      "text/plain": [
       "<IPython.core.display.HTML object>"
      ]
     },
     "metadata": {},
     "output_type": "display_data"
    }
   ],
   "source": [
    "def extract_polygon_coords(polygon):\n",
    "    if polygon.geom_type == 'Polygon':\n",
    "        return [list(polygon.exterior.coords)]\n",
    "    elif polygon.geom_type == 'MultiPolygon':\n",
    "        return [list(poly.exterior.coords) for poly in polygon.geoms]"
   ]
  },
  {
   "cell_type": "markdown",
   "metadata": {},
   "source": [
    "###  run_function"
   ]
  },
  {
   "cell_type": "code",
   "execution_count": 60,
   "metadata": {},
   "outputs": [
    {
     "data": {
      "text/html": [
       "\n",
       "            <style>\n",
       "                .geemap-dark {\n",
       "                    --jp-widgets-color: white;\n",
       "                    --jp-widgets-label-color: white;\n",
       "                    --jp-ui-font-color1: white;\n",
       "                    --jp-layout-color2: #454545;\n",
       "                    background-color: #383838;\n",
       "                }\n",
       "                    \n",
       "                .geemap-dark .jupyter-button {\n",
       "                    --jp-layout-color3: #383838;\n",
       "                }\n",
       "                \n",
       "                .geemap-colab {\n",
       "                    background-color: var(--colab-primary-surface-color, white);\n",
       "                }\n",
       "                    \n",
       "                .geemap-colab .jupyter-button {\n",
       "                    --jp-layout-color3: var(--colab-primary-surface-color, white);\n",
       "                }\n",
       "            </style>\n",
       "            "
      ],
      "text/plain": [
       "<IPython.core.display.HTML object>"
      ]
     },
     "metadata": {},
     "output_type": "display_data"
    }
   ],
   "source": [
    "#the index we need to write is the serial number of the file\n",
    "def run_function(index):\n",
    "    Splitdf   = gpd.read_file( mypath +'/Split_GeoJson'+  str(index) + \".geojson\")\n",
    "    Splitdf['ParcelID1'] = Splitdf['ParcelID'].str.replace(' ', '')\n",
    "    geometry = Splitdf['geometry']\n",
    "    bounds=geometry.bounds\n",
    "    bounds['polygon'] =geometry.apply(extract_polygon_coords)\n",
    "\n",
    "    for i in range(0,2):\n",
    "    #for i in range(len(Splitdf)):\n",
    "        bounding_box_coords  = (bounds.minx.values[i], bounds.miny.values[i], bounds.maxx.values[i], bounds.maxy.values[i])\n",
    "        houseCoords = ee.Geometry.Polygon(bounds['polygon'][i])\n",
    "\n",
    "        #polygon = sg.Polygon(geometry[i])\n",
    "        #obb = polygon.minimum_rotated_rectangle\n",
    "        #obb_coords = list(obb.exterior.coords)\n",
    "        # Replace spaces with nothing\n",
    "        name=Splitdf['ParcelID1'][i]\n",
    "        #display_masked_image(obb_coords, houseCoords,name)\n",
    "        display_masked_image(bounding_box_coords, houseCoords,name)\n",
    "        tasks = ee.batch.Task.list()\n",
    "        # Print details of all tasks, looking for your specific task by description.\n",
    "        for task in tasks:\n",
    "            if task.config['description'] == 'testingexample':\n",
    "                print(task.status())\n",
    "        \n"
   ]
  },
  {
   "cell_type": "markdown",
   "metadata": {},
   "source": [
    "### Operation Area"
   ]
  },
  {
   "cell_type": "code",
   "execution_count": 61,
   "metadata": {},
   "outputs": [
    {
     "data": {
      "text/html": [
       "\n",
       "            <style>\n",
       "                .geemap-dark {\n",
       "                    --jp-widgets-color: white;\n",
       "                    --jp-widgets-label-color: white;\n",
       "                    --jp-ui-font-color1: white;\n",
       "                    --jp-layout-color2: #454545;\n",
       "                    background-color: #383838;\n",
       "                }\n",
       "                    \n",
       "                .geemap-dark .jupyter-button {\n",
       "                    --jp-layout-color3: #383838;\n",
       "                }\n",
       "                \n",
       "                .geemap-colab {\n",
       "                    background-color: var(--colab-primary-surface-color, white);\n",
       "                }\n",
       "                    \n",
       "                .geemap-colab .jupyter-button {\n",
       "                    --jp-layout-color3: var(--colab-primary-surface-color, white);\n",
       "                }\n",
       "            </style>\n",
       "            "
      ],
      "text/plain": [
       "<IPython.core.display.HTML object>"
      ]
     },
     "metadata": {},
     "output_type": "display_data"
    }
   ],
   "source": [
    "mypath=\"/Users/gehaojie/Documents/GitHub/QTM550/Split\"\n",
    "run_function('1')"
   ]
  },
  {
   "cell_type": "markdown",
   "metadata": {},
   "source": [
    "### Testing Area()"
   ]
  },
  {
   "cell_type": "code",
   "execution_count": 55,
   "metadata": {},
   "outputs": [
    {
     "data": {
      "text/html": [
       "\n",
       "            <style>\n",
       "                .geemap-dark {\n",
       "                    --jp-widgets-color: white;\n",
       "                    --jp-widgets-label-color: white;\n",
       "                    --jp-ui-font-color1: white;\n",
       "                    --jp-layout-color2: #454545;\n",
       "                    background-color: #383838;\n",
       "                }\n",
       "                    \n",
       "                .geemap-dark .jupyter-button {\n",
       "                    --jp-layout-color3: #383838;\n",
       "                }\n",
       "                \n",
       "                .geemap-colab {\n",
       "                    background-color: var(--colab-primary-surface-color, white);\n",
       "                }\n",
       "                    \n",
       "                .geemap-colab .jupyter-button {\n",
       "                    --jp-layout-color3: var(--colab-primary-surface-color, white);\n",
       "                }\n",
       "            </style>\n",
       "            "
      ],
      "text/plain": [
       "<IPython.core.display.HTML object>"
      ]
     },
     "metadata": {},
     "output_type": "display_data"
    }
   ],
   "source": [
    "Splitdf1=gpd.read_file(\"/Users/gehaojie/Documents/GitHub/QTM550/Split/Split_GeoJson5.geojson\")\n",
    "Splitdf1['ParcelID1'] = Splitdf1['ParcelID'].str.replace(' ', '')\n",
    "geometry1 = Splitdf1['geometry']\n",
    "bounds1=geometry1.bounds\n",
    "bounds1['polygon'] =geometry1.apply(extract_polygon_coords)\n",
    "\n",
    "    #for i in range(len(Splitdf)):\n",
    "        #min_lon, min_lat, max_lon, max_lat = bounds.minx.values[i], bounds.miny.values[i], bounds.maxx.values[i], bounds.maxy.values[i]\n",
    "i=40\n",
    "bounding_box_coords1  = (bounds1.minx.values[i], bounds1.miny.values[i], bounds1.maxx.values[i], bounds1.maxy.values[i])\n",
    "houseCoords1 = ee.Geometry.Polygon(bounds1['polygon'][i])\n",
    "        # Replace spaces with nothing\n",
    "name1=Splitdf1['ParcelID1'][i]\n",
    "\n",
    "\n",
    "polygon = sg.Polygon(geometry1[i])\n",
    "obb = polygon.minimum_rotated_rectangle\n",
    "# Convert the coordinates into an Earth Engine polygon geometry\n",
    "obb_coords = list(obb.exterior.coords)\n",
    "\n",
    "# Iterate over each row in the Series\n",
    "#for index, row in bounds1['polygon'].iteritems():\n",
    "    # Convert the row to a list of lists (each inner list is a coordinate pair)\n",
    "#    coords = [list(coord) for coord in row[0]] \n",
    "\n",
    "#houseCoords1 = ee.Geometry.Polygon(coords)\n",
    "\n",
    "#display(geometry1)\n",
    "#display(coords)\n",
    "#geometry1[10]"
   ]
  },
  {
   "cell_type": "code",
   "execution_count": 53,
   "metadata": {},
   "outputs": [
    {
     "data": {
      "text/html": [
       "\n",
       "            <style>\n",
       "                .geemap-dark {\n",
       "                    --jp-widgets-color: white;\n",
       "                    --jp-widgets-label-color: white;\n",
       "                    --jp-ui-font-color1: white;\n",
       "                    --jp-layout-color2: #454545;\n",
       "                    background-color: #383838;\n",
       "                }\n",
       "                    \n",
       "                .geemap-dark .jupyter-button {\n",
       "                    --jp-layout-color3: #383838;\n",
       "                }\n",
       "                \n",
       "                .geemap-colab {\n",
       "                    background-color: var(--colab-primary-surface-color, white);\n",
       "                }\n",
       "                    \n",
       "                .geemap-colab .jupyter-button {\n",
       "                    --jp-layout-color3: var(--colab-primary-surface-color, white);\n",
       "                }\n",
       "            </style>\n",
       "            "
      ],
      "text/plain": [
       "<IPython.core.display.HTML object>"
      ]
     },
     "metadata": {},
     "output_type": "display_data"
    },
    {
     "data": {
      "text/plain": [
       "(-84.2617152998281, 34.1229577870579, -84.2615896642103, 34.1230210901029)"
      ]
     },
     "execution_count": 53,
     "metadata": {},
     "output_type": "execute_result"
    }
   ],
   "source": [
    "bounding_box_coords1"
   ]
  },
  {
   "cell_type": "code",
   "execution_count": 56,
   "metadata": {},
   "outputs": [
    {
     "data": {
      "text/html": [
       "\n",
       "            <style>\n",
       "                .geemap-dark {\n",
       "                    --jp-widgets-color: white;\n",
       "                    --jp-widgets-label-color: white;\n",
       "                    --jp-ui-font-color1: white;\n",
       "                    --jp-layout-color2: #454545;\n",
       "                    background-color: #383838;\n",
       "                }\n",
       "                    \n",
       "                .geemap-dark .jupyter-button {\n",
       "                    --jp-layout-color3: #383838;\n",
       "                }\n",
       "                \n",
       "                .geemap-colab {\n",
       "                    background-color: var(--colab-primary-surface-color, white);\n",
       "                }\n",
       "                    \n",
       "                .geemap-colab .jupyter-button {\n",
       "                    --jp-layout-color3: var(--colab-primary-surface-color, white);\n",
       "                }\n",
       "            </style>\n",
       "            "
      ],
      "text/plain": [
       "<IPython.core.display.HTML object>"
      ]
     },
     "metadata": {},
     "output_type": "display_data"
    },
    {
     "data": {
      "application/vnd.jupyter.widget-view+json": {
       "model_id": "7043f3bb127447339c947868091a23f9",
       "version_major": 2,
       "version_minor": 0
      },
      "text/plain": [
       "Map(center=[34.122027192499246, -84.26044433988035], controls=(WidgetControl(options=['position', 'transparent…"
      ]
     },
     "metadata": {},
     "output_type": "display_data"
    }
   ],
   "source": [
    "import ee\n",
    "import geemap\n",
    "min_lon, min_lat, max_lon, max_lat = bounding_box_coords1\n",
    "   \n",
    "    # Create a bounding box for the area of interest.\n",
    "boundingBox1 = ee.Geometry.Polygon(obb_coords)\n",
    "\n",
    "    # Create an image composite or use the first image.\n",
    "firstImage = dataset.median()\n",
    "   \n",
    "    # Clip the image to the bounding box.\n",
    "clippedImage = firstImage.clip(boundingBox1)\n",
    "   \n",
    "    # Create a mask from the houseCoords polygon.\n",
    "mask = ee.Image.constant(1).clip(houseCoords1).mask()\n",
    "\n",
    "# Apply the mask to the clipped image.\n",
    "#maskedImage = clippedImage.updateMask(mask)\n",
    "blackImage = ee.Image.constant([0, 0, 0, 255]).clip(boundingBox1)\n",
    "maskedImage = clippedImage.updateMask(mask).blend(blackImage.updateMask(mask.Not()))\n",
    "# Visualization parameters.\n",
    "trueColorVis = {\n",
    "    'bands': ['R', 'G', 'B'],\n",
    "    'min': 0,\n",
    "    'max': 255,\n",
    "}\n",
    "\n",
    "# Initialize a map.\n",
    "m = geemap.Map()\n",
    "m.set_center((max_lon + min_lon) / 2, (max_lat + min_lat) / 2, 20)  # Center the map on the bounding box.\n",
    "m.add_layer(maskedImage, trueColorVis, 'True Color')\n",
    "\n",
    "# Display the map.\n",
    "m\n",
    "\n",
    "#name=1234\n",
    "#visualizedImage = maskedImage.visualize(**trueColorVis)\n",
    "#geemap.ee_export_image_to_drive(visualizedImage, description=\"testingexample\"+str(name), folder=\"QTM550Team1Plottings\", region=boundingBox1, scale=10**-6)\n"
   ]
  },
  {
   "cell_type": "code",
   "execution_count": 104,
   "metadata": {},
   "outputs": [
    {
     "data": {
      "text/html": [
       "\n",
       "            <style>\n",
       "                .geemap-dark {\n",
       "                    --jp-widgets-color: white;\n",
       "                    --jp-widgets-label-color: white;\n",
       "                    --jp-ui-font-color1: white;\n",
       "                    --jp-layout-color2: #454545;\n",
       "                    background-color: #383838;\n",
       "                }\n",
       "                    \n",
       "                .geemap-dark .jupyter-button {\n",
       "                    --jp-layout-color3: #383838;\n",
       "                }\n",
       "                \n",
       "                .geemap-colab {\n",
       "                    background-color: var(--colab-primary-surface-color, white);\n",
       "                }\n",
       "                    \n",
       "                .geemap-colab .jupyter-button {\n",
       "                    --jp-layout-color3: var(--colab-primary-surface-color, white);\n",
       "                }\n",
       "            </style>\n",
       "            "
      ],
      "text/plain": [
       "<IPython.core.display.HTML object>"
      ]
     },
     "metadata": {},
     "output_type": "display_data"
    },
    {
     "data": {
      "application/vnd.jupyter.widget-view+json": {
       "model_id": "79017bf9e5a74ed685a036336d274019",
       "version_major": 2,
       "version_minor": 0
      },
      "text/plain": [
       "Map(center=[34.0778155, -84.322216], controls=(WidgetControl(options=['position', 'transparent_bg'], widget=Se…"
      ]
     },
     "metadata": {},
     "output_type": "display_data"
    }
   ],
   "source": [
    "import ee\n",
    "import geemap\n",
    "\n",
    "# Initialize the Earth Engine library.\n",
    "ee.Initialize()\n",
    "\n",
    "# Load the image collection.\n",
    "dataset = ee.ImageCollection('USDA/NAIP/DOQQ').filter(ee.Filter.date('2021-01-01', '2023-12-31'))\n",
    "\n",
    "\n",
    "# Define the bounding box coordinates for the broader area.\n",
    "max_lon, max_lat, min_lon, min_lat = -84.321957, 34.078049, -84.322475, 34.077582\n",
    "\n",
    "# Create a bounding box for the area of interest (around your house).\n",
    "boundingBox = ee.Geometry.Rectangle([min_lon, min_lat, max_lon, max_lat])\n",
    "\n",
    "# Define the coordinates of your land.\n",
    "houseCoords = ee.Geometry.Polygon(\n",
    " [(-84.3219570886809, 34.0776338049394), (-84.3222598355553, 34.0775826902571), (-84.3222644330423, 34.0775821533882), (-84.3222706029606, 34.0775817479663), (-84.3222752446441, 34.0775816789761), (-84.3222814287089, 34.0775818992524), (-84.3222875798376, 34.0775824766072), (-84.3222921535182, 34.0775831416122), (-84.3222981746658, 34.0775843340284), (-84.3223026169916, 34.0775854554135), (-84.3223084203637, 34.0775872467734), (-84.3223154421995, 34.0775899499196), (-84.3223208395029, 34.0775924711948), (-84.322327270254, 34.0775960496498), (-84.3223333030951, 34.0776000794129), (-84.3223378137524, 34.0776036071046), (-84.3223420182325, 34.0776073858313), (-84.3223458980858, 34.0776113993874), (-84.322350262488, 34.0776167142529), (-84.3223533446141, 34.0776211805255), (-84.3223610479689, 34.0776345308077), (-84.3223668920169, 34.077644337417), (-84.3223729385296, 34.0776540590183), (-84.3223791842515, 34.0776636929107), (-84.322385629176, 34.0776732354879), (-84.3223922711311, 34.0776826840477), (-84.3223991068632, 34.077692036791), (-84.3224061352803, 34.0777012892112), (-84.322413354214, 34.0777104404092), (-84.3224207614904, 34.0777194867815), (-84.3224283549362, 34.0777284247242), (-84.322436131299, 34.07773725334), (-84.3224440905723, 34.0777459690222), (-84.3224522284187, 34.0777545699732), (-84.3224605426629, 34.0777630516876), (-84.3224690322215, 34.0777714141668), (-84.322475290727, 34.0777773676702), (-84.3221294753502, 34.0780105586958), (-84.3220723494629, 34.0780490458033), (-84.3219570886809, 34.0776338049394)]\n",
    ")\n",
    "\n",
    "# Create an image composite or use the first image.\n",
    "firstImage = dataset.median()\n",
    "\n",
    "# Clip the image to the bounding box.\n",
    "clippedImage = firstImage.clip(boundingBox)\n",
    "\n",
    "# Create a mask from the houseCoords polygon.\n",
    "mask = ee.Image.constant(1).clip(houseCoords).mask()\n",
    "\n",
    "# Apply the mask to the clipped image.\n",
    "maskedImage = clippedImage.updateMask(mask)\n",
    "\n",
    "\n",
    "# Visualization parameters.\n",
    "trueColorVis = {\n",
    "    'bands': ['R', 'G', 'B'],\n",
    "    'min': 0,\n",
    "    'max': 255,\n",
    "}\n",
    "\n",
    "# Initialize a map.\n",
    "m = geemap.Map()\n",
    "m.set_center((max_lon + min_lon) / 2, (max_lat + min_lat) / 2, 20)  # Center the map on the bounding box.\n",
    "m.add_layer(maskedImage, trueColorVis, 'True Color')\n",
    "\n",
    "# Display the map.\n",
    "m\n"
   ]
  }
 ],
 "metadata": {
  "kernelspec": {
   "display_name": "base",
   "language": "python",
   "name": "python3"
  },
  "language_info": {
   "codemirror_mode": {
    "name": "ipython",
    "version": 3
   },
   "file_extension": ".py",
   "mimetype": "text/x-python",
   "name": "python",
   "nbconvert_exporter": "python",
   "pygments_lexer": "ipython3",
   "version": "3.9.12"
  }
 },
 "nbformat": 4,
 "nbformat_minor": 2
}
