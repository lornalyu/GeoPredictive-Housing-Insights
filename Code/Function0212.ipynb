{
 "cells": [
  {
   "cell_type": "code",
   "execution_count": 4,
   "metadata": {},
   "outputs": [],
   "source": [
    "#Packages importing\n",
    "import ee\n",
    "import geemap\n",
    "\n",
    "ee.Authenticate()\n",
    "ee.Initialize()\n"
   ]
  },
  {
   "cell_type": "code",
   "execution_count": 5,
   "metadata": {},
   "outputs": [
    {
     "data": {
      "text/html": [
       "\n",
       "            <style>\n",
       "                .geemap-dark {\n",
       "                    --jp-widgets-color: white;\n",
       "                    --jp-widgets-label-color: white;\n",
       "                    --jp-ui-font-color1: white;\n",
       "                    --jp-layout-color2: #454545;\n",
       "                    background-color: #383838;\n",
       "                }\n",
       "                    \n",
       "                .geemap-dark .jupyter-button {\n",
       "                    --jp-layout-color3: #383838;\n",
       "                }\n",
       "                \n",
       "                .geemap-colab {\n",
       "                    background-color: var(--colab-primary-surface-color, white);\n",
       "                }\n",
       "                    \n",
       "                .geemap-colab .jupyter-button {\n",
       "                    --jp-layout-color3: var(--colab-primary-surface-color, white);\n",
       "                }\n",
       "            </style>\n",
       "            "
      ],
      "text/plain": [
       "<IPython.core.display.HTML object>"
      ]
     },
     "metadata": {},
     "output_type": "display_data"
    }
   ],
   "source": [
    "# Load the image collection.\n",
    "dataset = ee.ImageCollection('USDA/NAIP/DOQQ').filter(ee.Filter.date('2021-01-01', '2023-12-31'))"
   ]
  },
  {
   "cell_type": "code",
   "execution_count": 6,
   "metadata": {},
   "outputs": [
    {
     "data": {
      "text/html": [
       "\n",
       "            <style>\n",
       "                .geemap-dark {\n",
       "                    --jp-widgets-color: white;\n",
       "                    --jp-widgets-label-color: white;\n",
       "                    --jp-ui-font-color1: white;\n",
       "                    --jp-layout-color2: #454545;\n",
       "                    background-color: #383838;\n",
       "                }\n",
       "                    \n",
       "                .geemap-dark .jupyter-button {\n",
       "                    --jp-layout-color3: #383838;\n",
       "                }\n",
       "                \n",
       "                .geemap-colab {\n",
       "                    background-color: var(--colab-primary-surface-color, white);\n",
       "                }\n",
       "                    \n",
       "                .geemap-colab .jupyter-button {\n",
       "                    --jp-layout-color3: var(--colab-primary-surface-color, white);\n",
       "                }\n",
       "            </style>\n",
       "            "
      ],
      "text/plain": [
       "<IPython.core.display.HTML object>"
      ]
     },
     "metadata": {},
     "output_type": "display_data"
    }
   ],
   "source": [
    "#Fixed Parameters\n",
    "# Visualization parameters.\n",
    "trueColorVis = {\n",
    "    'bands': ['R', 'G', 'B'],\n",
    "    'min': 0,\n",
    "    'max': 255,\n",
    "    'gamma': [1.0, 1.0, 1.0]\n",
    "}\n"
   ]
  },
  {
   "cell_type": "code",
   "execution_count": 1,
   "metadata": {},
   "outputs": [],
   "source": [
    "def display_masked_image(bounding_box_coords, house_coords):\n",
    "    # Initialize the Earth Engine library.\n",
    "    ee.Initialize()\n",
    "   \n",
    "    index=0\n",
    "    # Unpack the bounding box coordinates\n",
    "    min_lon, min_lat, max_lon, max_lat = bounding_box_coords\n",
    "   \n",
    "    # Create a bounding box for the area of interest.\n",
    "    boundingBox = ee.Geometry.Rectangle([min_lon, min_lat, max_lon, max_lat])\n",
    "   \n",
    "    # Define the coordinates of the area of interest.\n",
    "    houseCoords = ee.Geometry.Polygon(house_coords)\n",
    "   \n",
    "    # Create an image composite or use the first image.\n",
    "    firstImage = dataset.median()\n",
    "   \n",
    "    # Clip the image to the bounding box.\n",
    "    clippedImage = firstImage.clip(boundingBox)\n",
    "   \n",
    "    # Create a mask from the houseCoords polygon.\n",
    "    mask = ee.Image.constant(1).clip(houseCoords).mask()\n",
    "   \n",
    "    # Apply the mask to the clipped image.\n",
    "    blackImage = ee.Image.constant([0, 0, 0, 255]).clip(boundingBox)\n",
    "    maskedImage = clippedImage.updateMask(mask).blend(blackImage.updateMask(mask.Not()))\n",
    "   \n",
    "    # Initialize a map.\n",
    "    m = geemap.Map()\n",
    "    m.set_center((max_lon + min_lon) / 2, (max_lat + min_lat) / 2, 20)  # Center the map on the bounding box.\n",
    "    m.add_layer(maskedImage, trueColorVis, 'True Color')\n",
    "   \n",
    "    visualizedImage = maskedImage.visualize(**trueColorVis)\n",
    "\n",
    "    geemap.ee_export_image_to_drive(visualizedImage, description=\"testingexample\"+str(index), folder=\"QTM550Team1/Plottings\", region=boundingBox, scale=0.05)\n",
    "    index=index+1\n",
    "    # Display the map.\n",
    "    return m\n",
    "\n",
    "\n"
   ]
  },
  {
   "cell_type": "code",
   "execution_count": 2,
   "metadata": {},
   "outputs": [],
   "source": [
    "#Function for importing geojson and csv\n",
    "\n",
    "bounding_box_coords = (-84.322475, 34.077582, -84.321957, 34.078049)  # min_lon, min_lat, max_lon, max_lat\n",
    "house_coords = [\n",
    " [(-84.3219570886809, 34.0776338049394), (-84.3222598355553, 34.0775826902571), (-84.3222644330423, 34.0775821533882), (-84.3222706029606, 34.0775817479663), (-84.3222752446441, 34.0775816789761), (-84.3222814287089, 34.0775818992524), (-84.3222875798376, 34.0775824766072), (-84.3222921535182, 34.0775831416122), (-84.3222981746658, 34.0775843340284), (-84.3223026169916, 34.0775854554135), (-84.3223084203637, 34.0775872467734), (-84.3223154421995, 34.0775899499196), (-84.3223208395029, 34.0775924711948), (-84.322327270254, 34.0775960496498), (-84.3223333030951, 34.0776000794129), (-84.3223378137524, 34.0776036071046), (-84.3223420182325, 34.0776073858313), (-84.3223458980858, 34.0776113993874), (-84.322350262488, 34.0776167142529), (-84.3223533446141, 34.0776211805255), (-84.3223610479689, 34.0776345308077), (-84.3223668920169, 34.077644337417), (-84.3223729385296, 34.0776540590183), (-84.3223791842515, 34.0776636929107), (-84.322385629176, 34.0776732354879), (-84.3223922711311, 34.0776826840477), (-84.3223991068632, 34.077692036791), (-84.3224061352803, 34.0777012892112), (-84.322413354214, 34.0777104404092), (-84.3224207614904, 34.0777194867815), (-84.3224283549362, 34.0777284247242), (-84.322436131299, 34.07773725334), (-84.3224440905723, 34.0777459690222), (-84.3224522284187, 34.0777545699732), (-84.3224605426629, 34.0777630516876), (-84.3224690322215, 34.0777714141668), (-84.322475290727, 34.0777773676702), (-84.3221294753502, 34.0780105586958), (-84.3220723494629, 34.0780490458033), (-84.3219570886809, 34.0776338049394)]\n",
    "\n",
    "]\n"
   ]
  },
  {
   "cell_type": "code",
   "execution_count": 7,
   "metadata": {},
   "outputs": [
    {
     "data": {
      "text/html": [
       "\n",
       "            <style>\n",
       "                .geemap-dark {\n",
       "                    --jp-widgets-color: white;\n",
       "                    --jp-widgets-label-color: white;\n",
       "                    --jp-ui-font-color1: white;\n",
       "                    --jp-layout-color2: #454545;\n",
       "                    background-color: #383838;\n",
       "                }\n",
       "                    \n",
       "                .geemap-dark .jupyter-button {\n",
       "                    --jp-layout-color3: #383838;\n",
       "                }\n",
       "                \n",
       "                .geemap-colab {\n",
       "                    background-color: var(--colab-primary-surface-color, white);\n",
       "                }\n",
       "                    \n",
       "                .geemap-colab .jupyter-button {\n",
       "                    --jp-layout-color3: var(--colab-primary-surface-color, white);\n",
       "                }\n",
       "            </style>\n",
       "            "
      ],
      "text/plain": [
       "<IPython.core.display.HTML object>"
      ]
     },
     "metadata": {},
     "output_type": "display_data"
    },
    {
     "name": "stdout",
     "output_type": "stream",
     "text": [
      "{'state': 'COMPLETED', 'description': 'testingexample', 'creation_timestamp_ms': 1707775109729, 'update_timestamp_ms': 1707775147882, 'start_timestamp_ms': 1707775110684, 'task_type': 'EXPORT_IMAGE', 'destination_uris': ['https://drive.google.com/#folders/17WbUH57VNawEGcU-LGi5qkKP5P8pomwL'], 'attempt': 1, 'batch_eecu_usage_seconds': 3.9773154258728027, 'id': '4BDY5KSATYLO6RNPGG64OJGQ', 'name': 'projects/earthengine-legacy/operations/4BDY5KSATYLO6RNPGG64OJGQ'}\n",
      "{'state': 'COMPLETED', 'description': 'testingexample', 'creation_timestamp_ms': 1707774841297, 'update_timestamp_ms': 1707774880505, 'start_timestamp_ms': 1707774842944, 'task_type': 'EXPORT_IMAGE', 'destination_uris': ['https://drive.google.com/#folders/17WbUH57VNawEGcU-LGi5qkKP5P8pomwL'], 'attempt': 1, 'batch_eecu_usage_seconds': 4.601363182067871, 'id': '2WIJEZQVPYRORT7S765YC5GE', 'name': 'projects/earthengine-legacy/operations/2WIJEZQVPYRORT7S765YC5GE'}\n",
      "{'state': 'COMPLETED', 'description': 'testingexample', 'creation_timestamp_ms': 1707774673527, 'update_timestamp_ms': 1707774715400, 'start_timestamp_ms': 1707774675854, 'task_type': 'EXPORT_IMAGE', 'destination_uris': ['https://drive.google.com/#folders/17WbUH57VNawEGcU-LGi5qkKP5P8pomwL'], 'attempt': 1, 'batch_eecu_usage_seconds': 10.58497428894043, 'id': 'OZ3FX7N5INKPNSKQDKJC4RNH', 'name': 'projects/earthengine-legacy/operations/OZ3FX7N5INKPNSKQDKJC4RNH'}\n",
      "{'state': 'COMPLETED', 'description': 'testingexample', 'creation_timestamp_ms': 1707774530187, 'update_timestamp_ms': 1707774980369, 'start_timestamp_ms': 1707774533010, 'task_type': 'EXPORT_IMAGE', 'destination_uris': ['https://drive.google.com/#folders/17WbUH57VNawEGcU-LGi5qkKP5P8pomwL'], 'attempt': 1, 'batch_eecu_usage_seconds': 197.95999145507812, 'id': 'L5USZXIMDIC2RKDGYBS7IG7U', 'name': 'projects/earthengine-legacy/operations/L5USZXIMDIC2RKDGYBS7IG7U'}\n",
      "{'state': 'COMPLETED', 'description': 'testingexample', 'creation_timestamp_ms': 1707774511824, 'update_timestamp_ms': 1707774860141, 'start_timestamp_ms': 1707774515171, 'task_type': 'EXPORT_IMAGE', 'destination_uris': ['https://drive.google.com/#folders/17WbUH57VNawEGcU-LGi5qkKP5P8pomwL'], 'attempt': 1, 'batch_eecu_usage_seconds': 141.2362518310547, 'id': 'ISZYNONBNOB7E73K5DZEUXBF', 'name': 'projects/earthengine-legacy/operations/ISZYNONBNOB7E73K5DZEUXBF'}\n",
      "{'state': 'COMPLETED', 'description': 'testingexample', 'creation_timestamp_ms': 1707774450590, 'update_timestamp_ms': 1707774853305, 'start_timestamp_ms': 1707774454458, 'task_type': 'EXPORT_IMAGE', 'destination_uris': ['https://drive.google.com/#folders/17WbUH57VNawEGcU-LGi5qkKP5P8pomwL'], 'attempt': 1, 'batch_eecu_usage_seconds': 143.54849243164062, 'id': 'T5UAEWIMZZL2DICKFHQHL6ZZ', 'name': 'projects/earthengine-legacy/operations/T5UAEWIMZZL2DICKFHQHL6ZZ'}\n",
      "{'state': 'COMPLETED', 'description': 'testingexample', 'creation_timestamp_ms': 1707774436100, 'update_timestamp_ms': 1707774757608, 'start_timestamp_ms': 1707774440137, 'task_type': 'EXPORT_IMAGE', 'destination_uris': ['https://drive.google.com/#folders/17WbUH57VNawEGcU-LGi5qkKP5P8pomwL'], 'attempt': 1, 'batch_eecu_usage_seconds': 137.27481079101562, 'id': 'COIVAYRS5LFS4I4W56TOWFXX', 'name': 'projects/earthengine-legacy/operations/COIVAYRS5LFS4I4W56TOWFXX'}\n",
      "{'state': 'COMPLETED', 'description': 'testingexample', 'creation_timestamp_ms': 1707774426092, 'update_timestamp_ms': 1707774730079, 'start_timestamp_ms': 1707774427828, 'task_type': 'EXPORT_IMAGE', 'destination_uris': ['https://drive.google.com/#folders/17WbUH57VNawEGcU-LGi5qkKP5P8pomwL'], 'attempt': 1, 'batch_eecu_usage_seconds': 215.82301330566406, 'id': 'FBH3D6AHKBPPBFMVNDCKLGCU', 'name': 'projects/earthengine-legacy/operations/FBH3D6AHKBPPBFMVNDCKLGCU'}\n",
      "{'state': 'COMPLETED', 'description': 'testingexample', 'creation_timestamp_ms': 1707774417693, 'update_timestamp_ms': 1707774733705, 'start_timestamp_ms': 1707774421586, 'task_type': 'EXPORT_IMAGE', 'destination_uris': ['https://drive.google.com/#folders/17WbUH57VNawEGcU-LGi5qkKP5P8pomwL'], 'attempt': 1, 'batch_eecu_usage_seconds': 114.83029174804688, 'id': 'PE47DSE7GDOOQOXHQTGQIFLS', 'name': 'projects/earthengine-legacy/operations/PE47DSE7GDOOQOXHQTGQIFLS'}\n",
      "{'state': 'COMPLETED', 'description': 'testingexample', 'creation_timestamp_ms': 1707774216256, 'update_timestamp_ms': 1707774520115, 'start_timestamp_ms': 1707774220061, 'task_type': 'EXPORT_IMAGE', 'destination_uris': ['https://drive.google.com/#folders/17WbUH57VNawEGcU-LGi5qkKP5P8pomwL'], 'attempt': 1, 'batch_eecu_usage_seconds': 209.08139038085938, 'id': 'T5SOOT4HDDDLCKGUTOI6XK3X', 'name': 'projects/earthengine-legacy/operations/T5SOOT4HDDDLCKGUTOI6XK3X'}\n",
      "{'state': 'COMPLETED', 'description': 'testingexample', 'creation_timestamp_ms': 1707774173274, 'update_timestamp_ms': 1707774191630, 'start_timestamp_ms': 1707774177070, 'task_type': 'EXPORT_IMAGE', 'destination_uris': ['https://drive.google.com/#folders/17WbUH57VNawEGcU-LGi5qkKP5P8pomwL'], 'attempt': 1, 'batch_eecu_usage_seconds': 2.346388578414917, 'id': 'YOIRVM2QZSZUX637Q7YVWT4H', 'name': 'projects/earthengine-legacy/operations/YOIRVM2QZSZUX637Q7YVWT4H'}\n",
      "{'state': 'COMPLETED', 'description': 'testingexample', 'creation_timestamp_ms': 1707774118004, 'update_timestamp_ms': 1707774133463, 'start_timestamp_ms': 1707774125273, 'task_type': 'EXPORT_IMAGE', 'destination_uris': ['https://drive.google.com/#folders/17WbUH57VNawEGcU-LGi5qkKP5P8pomwL'], 'attempt': 1, 'batch_eecu_usage_seconds': 0.12795867025852203, 'id': 'NAZQG3X7O3KI52XZVV7SQPMZ', 'name': 'projects/earthengine-legacy/operations/NAZQG3X7O3KI52XZVV7SQPMZ'}\n",
      "{'state': 'COMPLETED', 'description': 'testingexample', 'creation_timestamp_ms': 1707773829760, 'update_timestamp_ms': 1707773842399, 'start_timestamp_ms': 1707773832551, 'task_type': 'EXPORT_IMAGE', 'destination_uris': ['https://drive.google.com/#folders/17WbUH57VNawEGcU-LGi5qkKP5P8pomwL'], 'attempt': 1, 'batch_eecu_usage_seconds': 0.25357699394226074, 'id': 'OJERMCW2XBG3LQMQ4V6T5RZG', 'name': 'projects/earthengine-legacy/operations/OJERMCW2XBG3LQMQ4V6T5RZG'}\n"
     ]
    }
   ],
   "source": [
    "#Ultra function\n",
    "map_display = display_masked_image(bounding_box_coords, house_coords)\n",
    "\n",
    "map_display\n",
    "\n",
    "tasks = ee.batch.Task.list()\n",
    "# Print details of all tasks, looking for your specific task by description.\n",
    "for task in tasks:\n",
    "    if task.config['description'] == 'testingexample':\n",
    "        print(task.status())"
   ]
  }
 ],
 "metadata": {
  "kernelspec": {
   "display_name": "base",
   "language": "python",
   "name": "python3"
  },
  "language_info": {
   "codemirror_mode": {
    "name": "ipython",
    "version": 3
   },
   "file_extension": ".py",
   "mimetype": "text/x-python",
   "name": "python",
   "nbconvert_exporter": "python",
   "pygments_lexer": "ipython3",
   "version": "3.9.12"
  }
 },
 "nbformat": 4,
 "nbformat_minor": 2
}
